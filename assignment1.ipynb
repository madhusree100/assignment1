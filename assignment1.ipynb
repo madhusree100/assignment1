{
  "nbformat": 4,
  "nbformat_minor": 0,
  "metadata": {
    "colab": {
      "provenance": []
    },
    "kernelspec": {
      "name": "python3",
      "display_name": "Python 3"
    },
    "language_info": {
      "name": "python"
    }
  },
  "cells": [
    {
      "cell_type": "markdown",
      "source": [
        "**1.  What is Python, and why is it popular ?**\n",
        "Ans. Python is is a programming language build to gap the bridge between humans and computers. It is is popular beacuse its easy to learn and understand."
      ],
      "metadata": {
        "id": "KePL0yTVibS-"
      }
    },
    {
      "cell_type": "markdown",
      "source": [
        "**2. What is an interpreter in Python ?**\n",
        "ans. It is a program that reads and executes line by line the code."
      ],
      "metadata": {
        "id": "XLFV1MSujF2_"
      }
    },
    {
      "cell_type": "markdown",
      "source": [
        "**3. What are pre-defined keywords in Python ?**\n",
        "Ans. These are set of reserved keyword in python which has particular function and cannot be used as variables."
      ],
      "metadata": {
        "id": "ecMUMZF-lqU_"
      }
    },
    {
      "cell_type": "markdown",
      "source": [
        "**4. Can keywords be used as variable names ?**\n",
        "Ans. No, we cant use keywords as variable names. It will throw an error."
      ],
      "metadata": {
        "id": "6_wLoYuamDHg"
      }
    },
    {
      "cell_type": "markdown",
      "source": [
        "**5. What is mutability in Python ?**\n",
        "Ans. Mutability refers to the ability to modify something in python after being defines first. Eg list is mutable but tuple is not mutable."
      ],
      "metadata": {
        "id": "Gm5dIh2GmRZq"
      }
    },
    {
      "cell_type": "markdown",
      "source": [
        "**6. Why are lists mutable, but tuples are immutable ?**\n",
        "Ans. Lists are mutable because we can make changes once its defined like we can add, delete , update etc but tuples on the other hand once defined cant be changed."
      ],
      "metadata": {
        "id": "lzgkfBWymqBO"
      }
    },
    {
      "cell_type": "markdown",
      "source": [
        "**7. What is the difference between “==” and “is” operators in Python ?**\n",
        "Ans. \"==\" operator is used to compare the two objects but \"is\" is used to check whether both the objects refer to the same memory location."
      ],
      "metadata": {
        "id": "WtBiaeLunOGN"
      }
    },
    {
      "cell_type": "markdown",
      "source": [
        "**8. What are logical operators in Python ?**\n",
        "Ans. Logical operators are used to combine boolean operators and to modity them. The three logical operators are AND, OR and NOT.  "
      ],
      "metadata": {
        "id": "UUDPdMmcoITK"
      }
    },
    {
      "cell_type": "markdown",
      "source": [
        "**9. What is type casting in Python?**\n",
        "Ans. Type casting is a method to change from one datatype to another.  "
      ],
      "metadata": {
        "id": "xde4Ezzuo1j6"
      }
    },
    {
      "cell_type": "markdown",
      "source": [
        "**10. What is the difference between implicit and explicit type casting?**\n",
        "Ans. Implicit- In this type python understands the datatype of the variable.\n",
        "     explicit- In this type we forcefully convert from one type to another."
      ],
      "metadata": {
        "id": "HaMVbGOfp3EI"
      }
    },
    {
      "cell_type": "markdown",
      "source": [
        "**11. What is the purpose of conditional statements in Python ?**\n",
        "Ans. Conditional statements are used when there are many conditions to be applied in a code. for example to find even or odd number two conditions has to be applied to check whether a number is even or odd."
      ],
      "metadata": {
        "id": "tO-s1XXSqvpG"
      }
    },
    {
      "cell_type": "markdown",
      "source": [
        "**12.  How does the elif statement work ?**\n",
        "Ans . If there are nore than two conditions to be fulfilled in a code we use the elif condition. If the \"if\" condition is not fulfilled the program refers to the elif condition then again if the elif condition is not fulfilled to refers to the else part."
      ],
      "metadata": {
        "id": "JAjqcDF1I-nb"
      }
    },
    {
      "cell_type": "markdown",
      "source": [
        "**13.  What is the difference between for and while loops ?**\n",
        "Ans. Both the for and while loops are control flow statements. The main difference is that in for loop we are aware of the fixed number of iterations but in while loop the block of code under it will run untill the given condition is true."
      ],
      "metadata": {
        "id": "m-set3MwJnvD"
      }
    },
    {
      "cell_type": "markdown",
      "source": [
        "**14.Describe a scenario where a while loop is more suitable than a for loop.**\n",
        "Ans. For example we check password, we need to check till the password is correct and we do not know how many number of iterations will be used so the ideal case is to use while loop."
      ],
      "metadata": {
        "id": "hNRykQ7tKQA7"
      }
    },
    {
      "cell_type": "code",
      "execution_count": 1,
      "metadata": {
        "id": "QbR1nQLWBTFi",
        "colab": {
          "base_uri": "https://localhost:8080/"
        },
        "outputId": "c644d3fc-0ff7-4cea-d2d7-306c492d0654"
      },
      "outputs": [
        {
          "output_type": "stream",
          "name": "stdout",
          "text": [
            "Hello World\n"
          ]
        }
      ],
      "source": [
        "# practical questions\n",
        "#1 Write a Python program to print \"Hello, World!y\n",
        "\n",
        "print(\"Hello World\")"
      ]
    },
    {
      "cell_type": "code",
      "source": [
        "#2 Write a Python program that displays your name and age8\n",
        "name=\"Madhusree\"\n",
        "age=23\n",
        "print(f\"Hello , my name is {name} and i am {age} years old\")"
      ],
      "metadata": {
        "colab": {
          "base_uri": "https://localhost:8080/"
        },
        "id": "90_1zqJOrlXJ",
        "outputId": "4e11490d-1f13-4c4b-eea4-8405ebbe65d6"
      },
      "execution_count": 4,
      "outputs": [
        {
          "output_type": "stream",
          "name": "stdout",
          "text": [
            "Hello , my name is Madhusree and i am 23 years old\n"
          ]
        }
      ]
    },
    {
      "cell_type": "code",
      "source": [
        "#3 Write code to print all the pre-defined keywords in Python using the keyword library8\n",
        "help(\"keywords\")\n"
      ],
      "metadata": {
        "colab": {
          "base_uri": "https://localhost:8080/"
        },
        "id": "1gNVrJvzr5uG",
        "outputId": "14213fe8-901a-47b7-f6d4-90fa5c22df97"
      },
      "execution_count": 6,
      "outputs": [
        {
          "output_type": "stream",
          "name": "stdout",
          "text": [
            "\n",
            "Here is a list of the Python keywords.  Enter any keyword to get more help.\n",
            "\n",
            "False               class               from                or\n",
            "None                continue            global              pass\n",
            "True                def                 if                  raise\n",
            "and                 del                 import              return\n",
            "as                  elif                in                  try\n",
            "assert              else                is                  while\n",
            "async               except              lambda              with\n",
            "await               finally             nonlocal            yield\n",
            "break               for                 not                 \n",
            "\n"
          ]
        }
      ]
    },
    {
      "cell_type": "code",
      "source": [
        "#4 Write a program that checks if a given word is a Python keyword.\n",
        "keys=[\"False\",\"none\",\"def\",\"class\",\"from\",\"or\",\"True\",\"continue\",\"global\" ]\n",
        "key=input(\"enter the word: \")\n",
        "if key in keys:\n",
        "  print(\"Its is a keyword\")\n",
        "else:\n",
        "  print(\"Not a keyword\")\n"
      ],
      "metadata": {
        "colab": {
          "base_uri": "https://localhost:8080/"
        },
        "id": "Jie-Db_vtPcF",
        "outputId": "16a4f31c-9297-4c29-9a59-8f94bba9d875"
      },
      "execution_count": 11,
      "outputs": [
        {
          "output_type": "stream",
          "name": "stdout",
          "text": [
            "enter the word: none\n",
            "Its is a keyword\n"
          ]
        }
      ]
    },
    {
      "cell_type": "code",
      "source": [
        "#5 Create a list and tuple in Python, and demonstrate how attempting to change an element works differently\n",
        "# for each.\n",
        "\n",
        "list1=[1,2,3,4,5,\"abys\"]\n",
        "tuple1=(7,8,9,\"killer\")\n",
        "list1.append(\"joy\")\n",
        "print(list1)"
      ],
      "metadata": {
        "colab": {
          "base_uri": "https://localhost:8080/"
        },
        "id": "6FPHaO9zvFq_",
        "outputId": "b5da4dbe-cee3-469b-a1be-78e9240b0f9b"
      },
      "execution_count": 12,
      "outputs": [
        {
          "output_type": "stream",
          "name": "stdout",
          "text": [
            "[1, 2, 3, 4, 5, 'abys', 'joy']\n"
          ]
        }
      ]
    },
    {
      "cell_type": "code",
      "source": [
        "tuple1[0]=\"moody\" #trying to change\n"
      ],
      "metadata": {
        "colab": {
          "base_uri": "https://localhost:8080/",
          "height": 141
        },
        "id": "WUmZeAkiAwSl",
        "outputId": "6585b8c6-93db-4473-f4b2-f61c37e5a362"
      },
      "execution_count": 13,
      "outputs": [
        {
          "output_type": "error",
          "ename": "TypeError",
          "evalue": "'tuple' object does not support item assignment",
          "traceback": [
            "\u001b[0;31m---------------------------------------------------------------------------\u001b[0m",
            "\u001b[0;31mTypeError\u001b[0m                                 Traceback (most recent call last)",
            "\u001b[0;32m<ipython-input-13-075cb586eac2>\u001b[0m in \u001b[0;36m<cell line: 0>\u001b[0;34m()\u001b[0m\n\u001b[0;32m----> 1\u001b[0;31m \u001b[0mtuple1\u001b[0m\u001b[0;34m[\u001b[0m\u001b[0;36m0\u001b[0m\u001b[0;34m]\u001b[0m\u001b[0;34m=\u001b[0m\u001b[0;34m\"moody\"\u001b[0m \u001b[0;31m#trying to change\u001b[0m\u001b[0;34m\u001b[0m\u001b[0;34m\u001b[0m\u001b[0m\n\u001b[0m",
            "\u001b[0;31mTypeError\u001b[0m: 'tuple' object does not support item assignment"
          ]
        }
      ]
    },
    {
      "cell_type": "code",
      "source": [
        "#6  Write a function to demonstrate the behavior of mutable and immutable arguments.\n",
        "\n"
      ],
      "metadata": {
        "id": "-AYaJN4yA72u"
      },
      "execution_count": null,
      "outputs": []
    },
    {
      "cell_type": "code",
      "source": [
        "#7. Write a program that performs basic arithmetic operations on two user-input numbers.\n",
        "\n",
        "a=int(input(\"Enter the 1st number: \"))\n",
        "b=int(input(\"Enter the 2nd number: \"))\n",
        "print(a+b)\n",
        "print(a-b)\n",
        "print(a*b)\n",
        "print(a/b)\n",
        "print(a//b)\n",
        "print(a**b)"
      ],
      "metadata": {
        "colab": {
          "base_uri": "https://localhost:8080/"
        },
        "id": "zOc50-fqBeuw",
        "outputId": "7ebfb8bd-ef32-4d2c-9f76-99744976b523"
      },
      "execution_count": 14,
      "outputs": [
        {
          "output_type": "stream",
          "name": "stdout",
          "text": [
            "Enter the 1st number: 60\n",
            "Enter the 2nd number: 20\n",
            "80\n",
            "40\n",
            "1200\n",
            "3.0\n",
            "3\n",
            "365615844006297600000000000000000000\n"
          ]
        }
      ]
    },
    {
      "cell_type": "code",
      "source": [
        "#8. Write a program to demonstrate the use of logical operators.\n",
        "\n",
        "a=(60!=20)\n",
        "b=(20!=20)\n",
        "print(\"a= \",a)\n",
        "print(\"b= \",b)\n",
        "print(\"a AND b:\",a and b )\n",
        "print(\"a OR b:\",a or b )\n",
        "print(\"NOT a:\", not a )"
      ],
      "metadata": {
        "colab": {
          "base_uri": "https://localhost:8080/"
        },
        "id": "86v6xEWUCeb9",
        "outputId": "86217e28-863b-4bc3-ecf5-7235b040b20f"
      },
      "execution_count": 18,
      "outputs": [
        {
          "output_type": "stream",
          "name": "stdout",
          "text": [
            "a=  True\n",
            "b=  False\n",
            "a AND b: False\n",
            "a OR b: True\n",
            "NOT a: False\n"
          ]
        }
      ]
    },
    {
      "cell_type": "code",
      "source": [
        "#9. Write a Python program to convert user input from string to integer, float, and boolean types.\n",
        "\n",
        "string1=input(\"enter a number:\")\n",
        "print(\"The integer is: \", int(string1))\n",
        "print(\"The float is: \",float(string1))\n",
        "string2=input(\"enter a input:\")\n",
        "print(\"The integer is: \",bool(string2))"
      ],
      "metadata": {
        "colab": {
          "base_uri": "https://localhost:8080/"
        },
        "id": "VISCxG5MD4G7",
        "outputId": "396f4c10-1114-4316-bccd-8720f7e4771e"
      },
      "execution_count": 3,
      "outputs": [
        {
          "output_type": "stream",
          "name": "stdout",
          "text": [
            "enter a number:10\n",
            "The integer is:  10\n",
            "The float is:  10.0\n",
            "enter a input:yes\n",
            "The integer is:  True\n"
          ]
        }
      ]
    },
    {
      "cell_type": "code",
      "source": [
        "#10. Write code to demonstrate type casting with list elements.\n",
        "\n",
        "l1=[1,2,3,\"rule\"]\n",
        "print(\"l1= \",l1)\n",
        "print(\"the type of l1 is \",type(l1))\n",
        "l2=set(l1)\n",
        "print(\"l2= \",l2)\n",
        "print(\"the type of l2 is \",type(l2))\n",
        "l3=tuple(l1)\n",
        "print(\"l3= \",l3)\n",
        "print(\"the type of l3 is \",type(l3))\n"
      ],
      "metadata": {
        "colab": {
          "base_uri": "https://localhost:8080/"
        },
        "id": "jQBZS8yYYxG1",
        "outputId": "d1d6d419-01e1-4fec-b2fa-4b305e0ab16a"
      },
      "execution_count": 4,
      "outputs": [
        {
          "output_type": "stream",
          "name": "stdout",
          "text": [
            "l1=  [1, 2, 3, 'rule']\n",
            "the type of l1 is  <class 'list'>\n",
            "l2=  {1, 2, 3, 'rule'}\n",
            "the type of l2 is  <class 'set'>\n",
            "l3=  (1, 2, 3, 'rule')\n",
            "the type of l3 is  <class 'tuple'>\n"
          ]
        }
      ]
    },
    {
      "cell_type": "code",
      "source": [
        "#11.  Write a program that checks if a number is positive, negative, or zero.\n",
        "\n",
        "num=int(input(\"Enter a number: \"))\n",
        "if num<0:\n",
        "  print(\"the number is negetive.\")\n",
        "elif num==0:\n",
        "  print(\"the number is 0.\")\n",
        "else:\n",
        "  print(\"the number is positive\")"
      ],
      "metadata": {
        "colab": {
          "base_uri": "https://localhost:8080/"
        },
        "id": "dff5nLmmzNP1",
        "outputId": "0c5d0faf-1d31-4227-b077-80c4b034bc31"
      },
      "execution_count": 6,
      "outputs": [
        {
          "output_type": "stream",
          "name": "stdout",
          "text": [
            "Enter a number: -3\n",
            "the number is negetive.\n"
          ]
        }
      ]
    },
    {
      "cell_type": "code",
      "source": [
        "#12.  Write a for loop to print numbers from 1 to 10.\n",
        "\n",
        "for i in range(1,11):\n",
        "  print(i)"
      ],
      "metadata": {
        "colab": {
          "base_uri": "https://localhost:8080/"
        },
        "id": "2A-5gitwzysy",
        "outputId": "a387d7f3-7e4c-46d3-ea31-7220172691ac"
      },
      "execution_count": 7,
      "outputs": [
        {
          "output_type": "stream",
          "name": "stdout",
          "text": [
            "1\n",
            "2\n",
            "3\n",
            "4\n",
            "5\n",
            "6\n",
            "7\n",
            "8\n",
            "9\n",
            "10\n"
          ]
        }
      ]
    },
    {
      "cell_type": "code",
      "source": [
        "#13.  Write a Python program to find the sum of all even numbers between 1 and 50.\n",
        "\n",
        "sum=0\n",
        "for i in range(0,51,2):\n",
        "  sum =sum +i\n",
        "print(\"The sum of all the even numbers from 1 to 50 is\",sum)\n"
      ],
      "metadata": {
        "colab": {
          "base_uri": "https://localhost:8080/"
        },
        "id": "aI19zdZFz-hO",
        "outputId": "3e9ba8e8-bcc2-47f4-d454-d1fbf492e5fd"
      },
      "execution_count": 12,
      "outputs": [
        {
          "output_type": "stream",
          "name": "stdout",
          "text": [
            "The sum of all the even numbers from 1 to 50 is 650\n"
          ]
        }
      ]
    },
    {
      "cell_type": "code",
      "source": [
        "#14. Write a program to reverse a string using a while loop.\n",
        "\n",
        "word=input(\"enter the word which u wish to reverse: \")\n",
        "length=len(word)\n",
        "new_word=''\n",
        "while length>0:\n",
        "  new_word+=word[length-1]\n",
        "  length-=1\n",
        "print(new_word)\n"
      ],
      "metadata": {
        "colab": {
          "base_uri": "https://localhost:8080/"
        },
        "id": "BZQAPHex1AxK",
        "outputId": "8f04101e-926c-4721-a422-57696d3089c5"
      },
      "execution_count": 20,
      "outputs": [
        {
          "output_type": "stream",
          "name": "stdout",
          "text": [
            "enter the word which u wish to reverse: kittu\n",
            "uttik\n"
          ]
        }
      ]
    },
    {
      "cell_type": "code",
      "source": [
        "#15. Write a Python program to calculate the factorial of a number provided by the user using a while loop.\n",
        "\n",
        "num=int(input(\"Enter the number whose factorial u wish to find: \"))\n",
        "fact=1\n",
        "while num>0:\n",
        "  fact=fact*num\n",
        "  num-=1\n",
        "print(fact)\n"
      ],
      "metadata": {
        "colab": {
          "base_uri": "https://localhost:8080/"
        },
        "id": "vGMsmh-S9yoa",
        "outputId": "72587ef3-3d26-4c26-d9bd-d6f0ddecf6b2"
      },
      "execution_count": 22,
      "outputs": [
        {
          "output_type": "stream",
          "name": "stdout",
          "text": [
            "Enter the number whose factorial u wish to find: 5\n",
            "120\n"
          ]
        }
      ]
    }
  ]
}